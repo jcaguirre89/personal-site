{
 "cells": [
  {
   "cell_type": "code",
   "execution_count": 122,
   "metadata": {},
   "outputs": [],
   "source": [
    "import pandas as pd\n",
    "import numpy as np\n",
    "\n",
    "from sklearn.ensemble import GradientBoostingRegressor\n",
    "import xgboost\n",
    "from sklearn.datasets import load_boston\n",
    "from sklearn.model_selection import train_test_split\n",
    "from sklearn.metrics import mean_squared_error\n",
    "\n",
    "\n",
    "\n",
    "import matplotlib.pyplot as plt\n",
    "%matplotlib inline"
   ]
  },
  {
   "cell_type": "code",
   "execution_count": 194,
   "metadata": {},
   "outputs": [],
   "source": [
    "boston_data = load_boston()\n",
    "X = pd.DataFrame(boston_data['data'], columns=boston_data['feature_names'])\n",
    "y = pd.Series(boston_data['target'], name='Price')\n",
    "\n",
    "X_train, X_test, y_train, y_test = train_test_split(X, y, test_size=0.2, random_state=45)"
   ]
  },
  {
   "cell_type": "code",
   "execution_count": 195,
   "metadata": {},
   "outputs": [],
   "source": [
    "n_estimators = 100\n",
    "gbt = GradientBoostingRegressor(\n",
    "    # Loss function for training\n",
    "    loss='ls',\n",
    "    # Boosting hyper-parameters\n",
    "    learning_rate=0.05,\n",
    "    n_estimators=1000,\n",
    "    # Tree growing hyper-parameters\n",
    "    max_depth=3,\n",
    "    min_samples_split=2,\n",
    "    min_samples_leaf=1,\n",
    "    max_leaf_nodes=None,\n",
    "    max_features=None,\n",
    "    subsample=1.0,\n",
    "    # Early stopping\n",
    "    validation_fraction=0.2,\n",
    "    n_iter_no_change=50,\n",
    "    tol=0.0001,\n",
    "    # Extra\n",
    "    random_state=43,\n",
    "    verbose=1,\n",
    ")\n"
   ]
  },
  {
   "cell_type": "code",
   "execution_count": 196,
   "metadata": {},
   "outputs": [
    {
     "name": "stdout",
     "output_type": "stream",
     "text": [
      "      Iter       Train Loss   Remaining Time \n",
      "         1          72.5873            0.99s\n",
      "         2          66.5909            0.99s\n",
      "         3          61.4474            1.32s\n",
      "         4          56.4727            1.24s\n",
      "         5          51.9279            1.19s\n",
      "         6          47.8497            1.16s\n",
      "         7          44.1120            1.13s\n",
      "         8          40.7528            1.11s\n",
      "         9          37.6838            1.10s\n",
      "        10          34.9064            1.09s\n",
      "        20          17.6463            0.98s\n",
      "        30          10.5320            1.03s\n",
      "        40           7.2191            0.93s\n",
      "        50           5.3444            0.83s\n",
      "        60           4.3587            0.81s\n",
      "        70           3.6931            0.77s\n",
      "        80           3.1934            0.78s\n",
      "        90           2.8365            0.73s\n",
      "       100           2.5802            0.69s\n"
     ]
    },
    {
     "data": {
      "text/plain": [
       "GradientBoostingRegressor(alpha=0.9, criterion='friedman_mse', init=None,\n",
       "                          learning_rate=0.05, loss='ls', max_depth=3,\n",
       "                          max_features=None, max_leaf_nodes=None,\n",
       "                          min_impurity_decrease=0.0, min_impurity_split=None,\n",
       "                          min_samples_leaf=1, min_samples_split=2,\n",
       "                          min_weight_fraction_leaf=0.0, n_estimators=1000,\n",
       "                          n_iter_no_change=50, presort='auto', random_state=43,\n",
       "                          subsample=1.0, tol=0.0001, validation_fraction=0.2,\n",
       "                          verbose=1, warm_start=False)"
      ]
     },
     "execution_count": 196,
     "metadata": {},
     "output_type": "execute_result"
    }
   ],
   "source": [
    "gbt.fit(X_train, y_train)"
   ]
  },
  {
   "cell_type": "code",
   "execution_count": 205,
   "metadata": {},
   "outputs": [
    {
     "name": "stdout",
     "output_type": "stream",
     "text": [
      "MSE Validation: 10.8153\n"
     ]
    },
    {
     "data": {
      "text/plain": [
       "Text(0, 0.5, 'Deviance')"
      ]
     },
     "execution_count": 205,
     "metadata": {},
     "output_type": "execute_result"
    },
    {
     "data": {
      "image/png": "[encoded data removed]",
      "text/plain": [
       "<Figure size 576x432 with 1 Axes>"
      ]
     },
     "metadata": {
      "needs_background": "light"
     },
     "output_type": "display_data"
    }
   ],
   "source": [
    "# Plot training deviance\n",
    "mse = mean_squared_error(y_test, gbt.predict(X_test))\n",
    "print(f\"MSE Validation: {mse:.4f}\")\n",
    "\n",
    "n_estimators = len(gbt.estimators_)\n",
    "\n",
    "# compute test set deviance\n",
    "test_score = np.zeros((n_estimators,), dtype=np.float64)\n",
    "\n",
    "for i, y_pred in enumerate(gbt.staged_predict(X_test)):\n",
    "    test_score[i] = gbt.loss_(y_test, y_pred)\n",
    "\n",
    "fig, ax = plt.subplots(figsize=(8, 6))\n",
    "plt.title('SKLearn Gradient Boosting Train/Test Loss')\n",
    "ax.plot(np.arange(n_estimators) + 1, gbt.train_score_, 'b-',\n",
    "         label='Training Set Deviance')\n",
    "ax.plot(np.arange(n_estimators) + 1, test_score, 'r-',\n",
    "         label='Test Set Deviance')\n",
    "ax.legend(loc='upper right')\n",
    "plt.xlabel('Boosting Iterations')\n",
    "plt.ylabel('Deviance')"
   ]
  },
  {
   "cell_type": "code",
   "execution_count": 198,
   "metadata": {},
   "outputs": [],
   "source": [
    "# XGBoost\n",
    "xgb = xgboost.XGBRegressor(\n",
    "    # Loss function and weak learner type\n",
    "    objective='reg:squarederror',\n",
    "    booster='gbtree',\n",
    "    eval_metric=['rmse', 'mae'],\n",
    "    base_score=0.5,\n",
    "    # Boosting hyper-parameters\n",
    "    learning_rate=0.1,  # Also called: eta\n",
    "    n_estimators=1000,\n",
    "    reg_alpha=0,  # L1 regularization\n",
    "    reg_lambda=10,  # L2 regularization\n",
    "    max_delta_step=0,\n",
    "    # Tree growing hyper-parameters\n",
    "    max_depth=3,\n",
    "    gamma=0,  # Also called: min_split_loss\n",
    "    min_child_weight=1,\n",
    "    subsample=0.8,\n",
    "    scale_pos_weight=1,\n",
    "    # These 3 parameters determine the n. of features to use for splits\n",
    "    colsample_bytree=0.8,\n",
    "    colsample_bylevel=1,\n",
    "    colsample_bynode=1,\n",
    "    # Extra\n",
    "    importance_type='gain',  # For feature importance\n",
    "    verbosity=1,\n",
    "    n_jobs=1,\n",
    "    nthread=None,\n",
    "    seed=42,\n",
    ")"
   ]
  },
  {
   "cell_type": "code",
   "execution_count": 199,
   "metadata": {},
   "outputs": [
    {
     "name": "stderr",
     "output_type": "stream",
     "text": [
      "C:\\Users\\crist\\Envs\\ml\\lib\\site-packages\\xgboost\\core.py:587: FutureWarning: Series.base is deprecated and will be removed in a future version\n",
      "  if getattr(data, 'base', None) is not None and \\\n"
     ]
    },
    {
     "data": {
      "text/plain": [
       "XGBRegressor(base_score=0.5, booster='gbtree', colsample_bylevel=1,\n",
       "             colsample_bynode=1, colsample_bytree=0.8,\n",
       "             eval_metric=['rmse', 'mae'], gamma=0, importance_type='gain',\n",
       "             learning_rate=0.1, max_delta_step=0, max_depth=3,\n",
       "             min_child_weight=1, missing=None, n_estimators=1000, n_jobs=1,\n",
       "             nthread=None, objective='reg:squarederror', random_state=0,\n",
       "             reg_alpha=0, reg_lambda=10, scale_pos_weight=1, seed=42,\n",
       "             silent=None, subsample=0.8, verbosity=1)"
      ]
     },
     "execution_count": 199,
     "metadata": {},
     "output_type": "execute_result"
    }
   ],
   "source": [
    "eval_set = [(X_train, y_train), (X_test, y_test)]\n",
    "xgb.fit(X_train, y_train, eval_set=eval_set, early_stopping_rounds=20, verbose=False)"
   ]
  },
  {
   "cell_type": "code",
   "execution_count": 207,
   "metadata": {},
   "outputs": [
    {
     "name": "stdout",
     "output_type": "stream",
     "text": [
      "MSE Validation: 8.6176\n"
     ]
    },
    {
     "data": {
      "image/png": "[encoded data removed]",
      "text/plain": [
       "<Figure size 576x432 with 1 Axes>"
      ]
     },
     "metadata": {
      "needs_background": "light"
     },
     "output_type": "display_data"
    }
   ],
   "source": [
    "mse = mean_squared_error(y_test, xgb.predict(X_test))\n",
    "print(f\"MSE Validation: {mse:.4f}\")\n",
    "\n",
    "results = xgb.evals_result_\n",
    "epochs = len(results['validation_0']['rmse'])\n",
    "x_axis = range(0, epochs)\n",
    "# plot RMSE\n",
    "fig, ax = plt.subplots(figsize=(8, 6))\n",
    "ax.plot(x_axis, results['validation_0']['rmse'], color='blue', label='RMSE - Train')\n",
    "ax.plot(x_axis, results['validation_1']['rmse'], color='red', label='RMSE - Test')\n",
    "ax.legend()\n",
    "plt.ylabel('Validation Loss')\n",
    "plt.title('XGBoost Train/Test Loss')\n",
    "plt.show()"
   ]
  },
  {
   "cell_type": "code",
   "execution_count": null,
   "metadata": {},
   "outputs": [],
   "source": []
  }
 ],
 "metadata": {
  "kernelspec": {
   "display_name": "ml",
   "language": "python",
   "name": "ml"
  },
  "language_info": {
   "codemirror_mode": {
    "name": "ipython",
    "version": 3
   },
   "file_extension": ".py",
   "mimetype": "text/x-python",
   "name": "python",
   "nbconvert_exporter": "python",
   "pygments_lexer": "ipython3",
   "version": "3.6.6"
  }
 },
 "nbformat": 4,
 "nbformat_minor": 2
}
